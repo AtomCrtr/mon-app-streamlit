{
 "cells": [
  {
   "cell_type": "code",
   "execution_count": 2,
   "metadata": {},
   "outputs": [
    {
     "name": "stdout",
     "output_type": "stream",
     "text": [
      "Requirement already satisfied: streamlit-authenticator in c:\\users\\feild\\anaconda3\\lib\\site-packages (0.4.1)\n",
      "Requirement already satisfied: bcrypt>=3.1.7 in c:\\users\\feild\\anaconda3\\lib\\site-packages (from streamlit-authenticator) (3.2.0)\n",
      "Requirement already satisfied: captcha>=0.5.0 in c:\\users\\feild\\anaconda3\\lib\\site-packages (from streamlit-authenticator) (0.6.0)\n",
      "Requirement already satisfied: extra-streamlit-components>=0.1.70 in c:\\users\\feild\\anaconda3\\lib\\site-packages (from streamlit-authenticator) (0.1.71)\n",
      "Requirement already satisfied: PyJWT>=2.3.0 in c:\\users\\feild\\anaconda3\\lib\\site-packages (from streamlit-authenticator) (2.8.0)\n",
      "Requirement already satisfied: PyYAML>=5.3.1 in c:\\users\\feild\\anaconda3\\lib\\site-packages (from streamlit-authenticator) (6.0.1)\n",
      "Requirement already satisfied: streamlit>=1.37.0 in c:\\users\\feild\\anaconda3\\lib\\site-packages (from streamlit-authenticator) (1.37.1)\n",
      "Requirement already satisfied: cffi>=1.1 in c:\\users\\feild\\anaconda3\\lib\\site-packages (from bcrypt>=3.1.7->streamlit-authenticator) (1.17.1)\n",
      "Requirement already satisfied: six>=1.4.1 in c:\\users\\feild\\anaconda3\\lib\\site-packages (from bcrypt>=3.1.7->streamlit-authenticator) (1.16.0)\n",
      "Requirement already satisfied: Pillow in c:\\users\\feild\\anaconda3\\lib\\site-packages (from captcha>=0.5.0->streamlit-authenticator) (10.4.0)\n",
      "Requirement already satisfied: altair<6,>=4.0 in c:\\users\\feild\\anaconda3\\lib\\site-packages (from streamlit>=1.37.0->streamlit-authenticator) (5.0.1)\n",
      "Requirement already satisfied: blinker<2,>=1.0.0 in c:\\users\\feild\\anaconda3\\lib\\site-packages (from streamlit>=1.37.0->streamlit-authenticator) (1.6.2)\n",
      "Requirement already satisfied: cachetools<6,>=4.0 in c:\\users\\feild\\anaconda3\\lib\\site-packages (from streamlit>=1.37.0->streamlit-authenticator) (5.3.3)\n",
      "Requirement already satisfied: click<9,>=7.0 in c:\\users\\feild\\anaconda3\\lib\\site-packages (from streamlit>=1.37.0->streamlit-authenticator) (8.1.7)\n",
      "Requirement already satisfied: numpy<3,>=1.20 in c:\\users\\feild\\anaconda3\\lib\\site-packages (from streamlit>=1.37.0->streamlit-authenticator) (1.26.4)\n",
      "Requirement already satisfied: packaging<25,>=20 in c:\\users\\feild\\anaconda3\\lib\\site-packages (from streamlit>=1.37.0->streamlit-authenticator) (24.1)\n",
      "Requirement already satisfied: pandas<3,>=1.3.0 in c:\\users\\feild\\anaconda3\\lib\\site-packages (from streamlit>=1.37.0->streamlit-authenticator) (2.2.2)\n",
      "Requirement already satisfied: protobuf<6,>=3.20 in c:\\users\\feild\\anaconda3\\lib\\site-packages (from streamlit>=1.37.0->streamlit-authenticator) (4.25.3)\n",
      "Requirement already satisfied: pyarrow>=7.0 in c:\\users\\feild\\anaconda3\\lib\\site-packages (from streamlit>=1.37.0->streamlit-authenticator) (16.1.0)\n",
      "Requirement already satisfied: requests<3,>=2.27 in c:\\users\\feild\\anaconda3\\lib\\site-packages (from streamlit>=1.37.0->streamlit-authenticator) (2.32.3)\n",
      "Requirement already satisfied: rich<14,>=10.14.0 in c:\\users\\feild\\anaconda3\\lib\\site-packages (from streamlit>=1.37.0->streamlit-authenticator) (13.7.1)\n",
      "Requirement already satisfied: tenacity<9,>=8.1.0 in c:\\users\\feild\\anaconda3\\lib\\site-packages (from streamlit>=1.37.0->streamlit-authenticator) (8.2.3)\n",
      "Requirement already satisfied: toml<2,>=0.10.1 in c:\\users\\feild\\anaconda3\\lib\\site-packages (from streamlit>=1.37.0->streamlit-authenticator) (0.10.2)\n",
      "Requirement already satisfied: typing-extensions<5,>=4.3.0 in c:\\users\\feild\\anaconda3\\lib\\site-packages (from streamlit>=1.37.0->streamlit-authenticator) (4.11.0)\n",
      "Requirement already satisfied: gitpython!=3.1.19,<4,>=3.0.7 in c:\\users\\feild\\anaconda3\\lib\\site-packages (from streamlit>=1.37.0->streamlit-authenticator) (3.1.43)\n",
      "Requirement already satisfied: pydeck<1,>=0.8.0b4 in c:\\users\\feild\\anaconda3\\lib\\site-packages (from streamlit>=1.37.0->streamlit-authenticator) (0.8.0)\n",
      "Requirement already satisfied: tornado<7,>=6.0.3 in c:\\users\\feild\\anaconda3\\lib\\site-packages (from streamlit>=1.37.0->streamlit-authenticator) (6.4.1)\n",
      "Requirement already satisfied: watchdog<5,>=2.1.5 in c:\\users\\feild\\anaconda3\\lib\\site-packages (from streamlit>=1.37.0->streamlit-authenticator) (4.0.1)\n",
      "Requirement already satisfied: jinja2 in c:\\users\\feild\\anaconda3\\lib\\site-packages (from altair<6,>=4.0->streamlit>=1.37.0->streamlit-authenticator) (3.1.4)\n",
      "Requirement already satisfied: jsonschema>=3.0 in c:\\users\\feild\\anaconda3\\lib\\site-packages (from altair<6,>=4.0->streamlit>=1.37.0->streamlit-authenticator) (4.23.0)\n",
      "Requirement already satisfied: toolz in c:\\users\\feild\\anaconda3\\lib\\site-packages (from altair<6,>=4.0->streamlit>=1.37.0->streamlit-authenticator) (0.12.0)\n",
      "Requirement already satisfied: pycparser in c:\\users\\feild\\anaconda3\\lib\\site-packages (from cffi>=1.1->bcrypt>=3.1.7->streamlit-authenticator) (2.21)\n",
      "Requirement already satisfied: colorama in c:\\users\\feild\\anaconda3\\lib\\site-packages (from click<9,>=7.0->streamlit>=1.37.0->streamlit-authenticator) (0.4.6)\n",
      "Requirement already satisfied: gitdb<5,>=4.0.1 in c:\\users\\feild\\anaconda3\\lib\\site-packages (from gitpython!=3.1.19,<4,>=3.0.7->streamlit>=1.37.0->streamlit-authenticator) (4.0.7)\n",
      "Requirement already satisfied: python-dateutil>=2.8.2 in c:\\users\\feild\\anaconda3\\lib\\site-packages (from pandas<3,>=1.3.0->streamlit>=1.37.0->streamlit-authenticator) (2.9.0.post0)\n",
      "Requirement already satisfied: pytz>=2020.1 in c:\\users\\feild\\anaconda3\\lib\\site-packages (from pandas<3,>=1.3.0->streamlit>=1.37.0->streamlit-authenticator) (2024.1)\n",
      "Requirement already satisfied: tzdata>=2022.7 in c:\\users\\feild\\anaconda3\\lib\\site-packages (from pandas<3,>=1.3.0->streamlit>=1.37.0->streamlit-authenticator) (2023.3)\n",
      "Requirement already satisfied: charset-normalizer<4,>=2 in c:\\users\\feild\\anaconda3\\lib\\site-packages (from requests<3,>=2.27->streamlit>=1.37.0->streamlit-authenticator) (3.3.2)\n",
      "Requirement already satisfied: idna<4,>=2.5 in c:\\users\\feild\\anaconda3\\lib\\site-packages (from requests<3,>=2.27->streamlit>=1.37.0->streamlit-authenticator) (3.7)\n",
      "Requirement already satisfied: urllib3<3,>=1.21.1 in c:\\users\\feild\\anaconda3\\lib\\site-packages (from requests<3,>=2.27->streamlit>=1.37.0->streamlit-authenticator) (2.2.3)\n",
      "Requirement already satisfied: certifi>=2017.4.17 in c:\\users\\feild\\anaconda3\\lib\\site-packages (from requests<3,>=2.27->streamlit>=1.37.0->streamlit-authenticator) (2024.8.30)\n",
      "Requirement already satisfied: markdown-it-py>=2.2.0 in c:\\users\\feild\\anaconda3\\lib\\site-packages (from rich<14,>=10.14.0->streamlit>=1.37.0->streamlit-authenticator) (2.2.0)\n",
      "Requirement already satisfied: pygments<3.0.0,>=2.13.0 in c:\\users\\feild\\anaconda3\\lib\\site-packages (from rich<14,>=10.14.0->streamlit>=1.37.0->streamlit-authenticator) (2.15.1)\n",
      "Requirement already satisfied: smmap<5,>=3.0.1 in c:\\users\\feild\\anaconda3\\lib\\site-packages (from gitdb<5,>=4.0.1->gitpython!=3.1.19,<4,>=3.0.7->streamlit>=1.37.0->streamlit-authenticator) (4.0.0)\n",
      "Requirement already satisfied: MarkupSafe>=2.0 in c:\\users\\feild\\anaconda3\\lib\\site-packages (from jinja2->altair<6,>=4.0->streamlit>=1.37.0->streamlit-authenticator) (2.1.3)\n",
      "Requirement already satisfied: attrs>=22.2.0 in c:\\users\\feild\\anaconda3\\lib\\site-packages (from jsonschema>=3.0->altair<6,>=4.0->streamlit>=1.37.0->streamlit-authenticator) (23.1.0)\n",
      "Requirement already satisfied: jsonschema-specifications>=2023.03.6 in c:\\users\\feild\\anaconda3\\lib\\site-packages (from jsonschema>=3.0->altair<6,>=4.0->streamlit>=1.37.0->streamlit-authenticator) (2023.7.1)\n",
      "Requirement already satisfied: referencing>=0.28.4 in c:\\users\\feild\\anaconda3\\lib\\site-packages (from jsonschema>=3.0->altair<6,>=4.0->streamlit>=1.37.0->streamlit-authenticator) (0.30.2)\n",
      "Requirement already satisfied: rpds-py>=0.7.1 in c:\\users\\feild\\anaconda3\\lib\\site-packages (from jsonschema>=3.0->altair<6,>=4.0->streamlit>=1.37.0->streamlit-authenticator) (0.10.6)\n",
      "Requirement already satisfied: mdurl~=0.1 in c:\\users\\feild\\anaconda3\\lib\\site-packages (from markdown-it-py>=2.2.0->rich<14,>=10.14.0->streamlit>=1.37.0->streamlit-authenticator) (0.1.0)\n",
      "Note: you may need to restart the kernel to use updated packages.\n"
     ]
    }
   ],
   "source": [
    "pip install streamlit-authenticator\n"
   ]
  },
  {
   "cell_type": "code",
   "execution_count": 3,
   "metadata": {},
   "outputs": [
    {
     "name": "stdout",
     "output_type": "stream",
     "text": [
      "Collecting streamlit-option-menu\n",
      "  Downloading streamlit_option_menu-0.4.0-py3-none-any.whl.metadata (2.5 kB)\n",
      "Requirement already satisfied: streamlit>=1.36 in c:\\users\\feild\\anaconda3\\lib\\site-packages (from streamlit-option-menu) (1.37.1)\n",
      "Requirement already satisfied: altair<6,>=4.0 in c:\\users\\feild\\anaconda3\\lib\\site-packages (from streamlit>=1.36->streamlit-option-menu) (5.0.1)\n",
      "Requirement already satisfied: blinker<2,>=1.0.0 in c:\\users\\feild\\anaconda3\\lib\\site-packages (from streamlit>=1.36->streamlit-option-menu) (1.6.2)\n",
      "Requirement already satisfied: cachetools<6,>=4.0 in c:\\users\\feild\\anaconda3\\lib\\site-packages (from streamlit>=1.36->streamlit-option-menu) (5.3.3)\n",
      "Requirement already satisfied: click<9,>=7.0 in c:\\users\\feild\\anaconda3\\lib\\site-packages (from streamlit>=1.36->streamlit-option-menu) (8.1.7)\n",
      "Requirement already satisfied: numpy<3,>=1.20 in c:\\users\\feild\\anaconda3\\lib\\site-packages (from streamlit>=1.36->streamlit-option-menu) (1.26.4)\n",
      "Requirement already satisfied: packaging<25,>=20 in c:\\users\\feild\\anaconda3\\lib\\site-packages (from streamlit>=1.36->streamlit-option-menu) (24.1)\n",
      "Requirement already satisfied: pandas<3,>=1.3.0 in c:\\users\\feild\\anaconda3\\lib\\site-packages (from streamlit>=1.36->streamlit-option-menu) (2.2.2)\n",
      "Requirement already satisfied: pillow<11,>=7.1.0 in c:\\users\\feild\\anaconda3\\lib\\site-packages (from streamlit>=1.36->streamlit-option-menu) (10.4.0)\n",
      "Requirement already satisfied: protobuf<6,>=3.20 in c:\\users\\feild\\anaconda3\\lib\\site-packages (from streamlit>=1.36->streamlit-option-menu) (4.25.3)\n",
      "Requirement already satisfied: pyarrow>=7.0 in c:\\users\\feild\\anaconda3\\lib\\site-packages (from streamlit>=1.36->streamlit-option-menu) (16.1.0)\n",
      "Requirement already satisfied: requests<3,>=2.27 in c:\\users\\feild\\anaconda3\\lib\\site-packages (from streamlit>=1.36->streamlit-option-menu) (2.32.3)\n",
      "Requirement already satisfied: rich<14,>=10.14.0 in c:\\users\\feild\\anaconda3\\lib\\site-packages (from streamlit>=1.36->streamlit-option-menu) (13.7.1)\n",
      "Requirement already satisfied: tenacity<9,>=8.1.0 in c:\\users\\feild\\anaconda3\\lib\\site-packages (from streamlit>=1.36->streamlit-option-menu) (8.2.3)\n",
      "Requirement already satisfied: toml<2,>=0.10.1 in c:\\users\\feild\\anaconda3\\lib\\site-packages (from streamlit>=1.36->streamlit-option-menu) (0.10.2)\n",
      "Requirement already satisfied: typing-extensions<5,>=4.3.0 in c:\\users\\feild\\anaconda3\\lib\\site-packages (from streamlit>=1.36->streamlit-option-menu) (4.11.0)\n",
      "Requirement already satisfied: gitpython!=3.1.19,<4,>=3.0.7 in c:\\users\\feild\\anaconda3\\lib\\site-packages (from streamlit>=1.36->streamlit-option-menu) (3.1.43)\n",
      "Requirement already satisfied: pydeck<1,>=0.8.0b4 in c:\\users\\feild\\anaconda3\\lib\\site-packages (from streamlit>=1.36->streamlit-option-menu) (0.8.0)\n",
      "Requirement already satisfied: tornado<7,>=6.0.3 in c:\\users\\feild\\anaconda3\\lib\\site-packages (from streamlit>=1.36->streamlit-option-menu) (6.4.1)\n",
      "Requirement already satisfied: watchdog<5,>=2.1.5 in c:\\users\\feild\\anaconda3\\lib\\site-packages (from streamlit>=1.36->streamlit-option-menu) (4.0.1)\n",
      "Requirement already satisfied: jinja2 in c:\\users\\feild\\anaconda3\\lib\\site-packages (from altair<6,>=4.0->streamlit>=1.36->streamlit-option-menu) (3.1.4)\n",
      "Requirement already satisfied: jsonschema>=3.0 in c:\\users\\feild\\anaconda3\\lib\\site-packages (from altair<6,>=4.0->streamlit>=1.36->streamlit-option-menu) (4.23.0)\n",
      "Requirement already satisfied: toolz in c:\\users\\feild\\anaconda3\\lib\\site-packages (from altair<6,>=4.0->streamlit>=1.36->streamlit-option-menu) (0.12.0)\n",
      "Requirement already satisfied: colorama in c:\\users\\feild\\anaconda3\\lib\\site-packages (from click<9,>=7.0->streamlit>=1.36->streamlit-option-menu) (0.4.6)\n",
      "Requirement already satisfied: gitdb<5,>=4.0.1 in c:\\users\\feild\\anaconda3\\lib\\site-packages (from gitpython!=3.1.19,<4,>=3.0.7->streamlit>=1.36->streamlit-option-menu) (4.0.7)\n",
      "Requirement already satisfied: python-dateutil>=2.8.2 in c:\\users\\feild\\anaconda3\\lib\\site-packages (from pandas<3,>=1.3.0->streamlit>=1.36->streamlit-option-menu) (2.9.0.post0)\n",
      "Requirement already satisfied: pytz>=2020.1 in c:\\users\\feild\\anaconda3\\lib\\site-packages (from pandas<3,>=1.3.0->streamlit>=1.36->streamlit-option-menu) (2024.1)\n",
      "Requirement already satisfied: tzdata>=2022.7 in c:\\users\\feild\\anaconda3\\lib\\site-packages (from pandas<3,>=1.3.0->streamlit>=1.36->streamlit-option-menu) (2023.3)\n",
      "Requirement already satisfied: charset-normalizer<4,>=2 in c:\\users\\feild\\anaconda3\\lib\\site-packages (from requests<3,>=2.27->streamlit>=1.36->streamlit-option-menu) (3.3.2)\n",
      "Requirement already satisfied: idna<4,>=2.5 in c:\\users\\feild\\anaconda3\\lib\\site-packages (from requests<3,>=2.27->streamlit>=1.36->streamlit-option-menu) (3.7)\n",
      "Requirement already satisfied: urllib3<3,>=1.21.1 in c:\\users\\feild\\anaconda3\\lib\\site-packages (from requests<3,>=2.27->streamlit>=1.36->streamlit-option-menu) (2.2.3)\n",
      "Requirement already satisfied: certifi>=2017.4.17 in c:\\users\\feild\\anaconda3\\lib\\site-packages (from requests<3,>=2.27->streamlit>=1.36->streamlit-option-menu) (2024.8.30)\n",
      "Requirement already satisfied: markdown-it-py>=2.2.0 in c:\\users\\feild\\anaconda3\\lib\\site-packages (from rich<14,>=10.14.0->streamlit>=1.36->streamlit-option-menu) (2.2.0)\n",
      "Requirement already satisfied: pygments<3.0.0,>=2.13.0 in c:\\users\\feild\\anaconda3\\lib\\site-packages (from rich<14,>=10.14.0->streamlit>=1.36->streamlit-option-menu) (2.15.1)\n",
      "Requirement already satisfied: smmap<5,>=3.0.1 in c:\\users\\feild\\anaconda3\\lib\\site-packages (from gitdb<5,>=4.0.1->gitpython!=3.1.19,<4,>=3.0.7->streamlit>=1.36->streamlit-option-menu) (4.0.0)\n",
      "Requirement already satisfied: MarkupSafe>=2.0 in c:\\users\\feild\\anaconda3\\lib\\site-packages (from jinja2->altair<6,>=4.0->streamlit>=1.36->streamlit-option-menu) (2.1.3)\n",
      "Requirement already satisfied: attrs>=22.2.0 in c:\\users\\feild\\anaconda3\\lib\\site-packages (from jsonschema>=3.0->altair<6,>=4.0->streamlit>=1.36->streamlit-option-menu) (23.1.0)\n",
      "Requirement already satisfied: jsonschema-specifications>=2023.03.6 in c:\\users\\feild\\anaconda3\\lib\\site-packages (from jsonschema>=3.0->altair<6,>=4.0->streamlit>=1.36->streamlit-option-menu) (2023.7.1)\n",
      "Requirement already satisfied: referencing>=0.28.4 in c:\\users\\feild\\anaconda3\\lib\\site-packages (from jsonschema>=3.0->altair<6,>=4.0->streamlit>=1.36->streamlit-option-menu) (0.30.2)\n",
      "Requirement already satisfied: rpds-py>=0.7.1 in c:\\users\\feild\\anaconda3\\lib\\site-packages (from jsonschema>=3.0->altair<6,>=4.0->streamlit>=1.36->streamlit-option-menu) (0.10.6)\n",
      "Requirement already satisfied: mdurl~=0.1 in c:\\users\\feild\\anaconda3\\lib\\site-packages (from markdown-it-py>=2.2.0->rich<14,>=10.14.0->streamlit>=1.36->streamlit-option-menu) (0.1.0)\n",
      "Requirement already satisfied: six>=1.5 in c:\\users\\feild\\anaconda3\\lib\\site-packages (from python-dateutil>=2.8.2->pandas<3,>=1.3.0->streamlit>=1.36->streamlit-option-menu) (1.16.0)\n",
      "Downloading streamlit_option_menu-0.4.0-py3-none-any.whl (829 kB)\n",
      "   ---------------------------------------- 0.0/829.3 kB ? eta -:--:--\n",
      "   ---------------------------------------- 829.3/829.3 kB 9.1 MB/s eta 0:00:00\n",
      "Installing collected packages: streamlit-option-menu\n",
      "Successfully installed streamlit-option-menu-0.4.0\n",
      "Note: you may need to restart the kernel to use updated packages.\n"
     ]
    }
   ],
   "source": [
    "pip install streamlit-option-menu"
   ]
  },
  {
   "cell_type": "code",
   "execution_count": 4,
   "metadata": {},
   "outputs": [
    {
     "name": "stdout",
     "output_type": "stream",
     "text": [
      "Requirement already satisfied: pandas in c:\\users\\feild\\anaconda3\\lib\\site-packages (2.2.2)\n",
      "Requirement already satisfied: numpy>=1.26.0 in c:\\users\\feild\\anaconda3\\lib\\site-packages (from pandas) (1.26.4)\n",
      "Requirement already satisfied: python-dateutil>=2.8.2 in c:\\users\\feild\\anaconda3\\lib\\site-packages (from pandas) (2.9.0.post0)\n",
      "Requirement already satisfied: pytz>=2020.1 in c:\\users\\feild\\anaconda3\\lib\\site-packages (from pandas) (2024.1)\n",
      "Requirement already satisfied: tzdata>=2022.7 in c:\\users\\feild\\anaconda3\\lib\\site-packages (from pandas) (2023.3)\n",
      "Requirement already satisfied: six>=1.5 in c:\\users\\feild\\anaconda3\\lib\\site-packages (from python-dateutil>=2.8.2->pandas) (1.16.0)\n",
      "Note: you may need to restart the kernel to use updated packages.\n"
     ]
    }
   ],
   "source": [
    "pip install pandas"
   ]
  }
 ],
 "metadata": {
  "kernelspec": {
   "display_name": "base",
   "language": "python",
   "name": "python3"
  },
  "language_info": {
   "codemirror_mode": {
    "name": "ipython",
    "version": 3
   },
   "file_extension": ".py",
   "mimetype": "text/x-python",
   "name": "python",
   "nbconvert_exporter": "python",
   "pygments_lexer": "ipython3",
   "version": "3.12.7"
  }
 },
 "nbformat": 4,
 "nbformat_minor": 2
}
